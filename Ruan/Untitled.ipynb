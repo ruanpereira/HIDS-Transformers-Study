{
 "cells": [
  {
   "cell_type": "code",
   "execution_count": null,
   "id": "a60d9a10",
   "metadata": {},
   "outputs": [],
   "source": [
    "Machine Learning - Hands on - Cap a Cap\n",
    "\n",
    "Objetivo principal: chegar até transformers\n",
    "\n",
    "Capítulo 1 - ML Landscape\n",
    "\n",
    "Utilização da máquina para problemas muito grandes para seres humanos, ou que sejam muito \n",
    "voláteis para serem resolvidos, ou com muitas regras, muitos ajustes. Normalmente estamos falando\n",
    "de usar machine learning para realizar um estudo do problema, e ver quais são as soluções que \n",
    "serão encontradas. Também muito utilizado para problemas em que o próprio código possa se adaptar\n",
    "ao problema (a forma mais conhecida de ser utilizada.), criando assim uma independência da má-\n",
    "quina quanto ao estudo do problema. \n",
    "\n",
    "O capítulo fala de algumas aplicações, e uma delas que pode ser muito interessante fora trans-\n",
    "formers, é o de anomaly detection, para a área de segurança. Talvez algo envolvendo regras de \n",
    "firewall, ou talvez alteração em pacotes? -\n",
    "\n",
    "Podemos classificar os diversos tipos de sistemas de machine learning  a partir de certas cate-\n",
    "gorias: \n",
    "\n",
    "- Treinamento com ou sem supervisão humana (supervisado, não-supervisado, semi supervisado e \n",
    "Reinforcement Learning [RL])\n",
    "\n",
    "- Aprendizado incremental enquanto está funcionando (online X batch learning)\n",
    "\n",
    "- Funcionamento a partir da comparação entre pontos de data novos com já existentes, ou então \n",
    "detectando padrões na data de treinamento e criando um modelo preditivo (instance-based vs \n",
    "model-based learning)\n",
    "\n",
    "Supervised Learning\n",
    "\n",
    "O set de treinamento de dados que você alimenta os algoritmos inclui as soluções, que são \n",
    "chamados labels(rótulos). \n",
    "\n",
    "Uma task comum desse tipo de treinamento é a classificação. Seria no caso a classificação de \n",
    "novas informações a partir dos labels inseridos. Outra task comum é a de predição de um valor \n",
    "numérico almejado, a partir de um conjunto de features (chamado de preditores). O nome dessa \n",
    "task é regressão. \n",
    "\n",
    "Unsupervised Learning\n",
    "\n",
    "A data de treinamento não é rotulada. O sistema tenta aprender sozinho. \n",
    "Um exemplo de task é a redução dimensional. Neste, queremos simplificar a data sem perder \n",
    "informação. \n"
   ]
  }
 ],
 "metadata": {
  "kernelspec": {
   "display_name": "Python 3 (ipykernel)",
   "language": "python",
   "name": "python3"
  },
  "language_info": {
   "codemirror_mode": {
    "name": "ipython",
    "version": 3
   },
   "file_extension": ".py",
   "mimetype": "text/x-python",
   "name": "python",
   "nbconvert_exporter": "python",
   "pygments_lexer": "ipython3",
   "version": "3.9.13"
  }
 },
 "nbformat": 4,
 "nbformat_minor": 5
}
